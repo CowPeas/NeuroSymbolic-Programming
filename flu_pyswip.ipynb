{
 "cells": [
  {
   "attachments": {},
   "cell_type": "markdown",
   "metadata": {},
   "source": [
    "Using the PySWIP library to create a simple expert system for diagnosing the common cold"
   ]
  },
  {
   "cell_type": "code",
   "execution_count": null,
   "metadata": {},
   "outputs": [],
   "source": [
    "from pyswip import Prolog"
   ]
  },
  {
   "attachments": {},
   "cell_type": "markdown",
   "metadata": {},
   "source": [
    "Initialize the Prolog engine"
   ]
  },
  {
   "cell_type": "code",
   "execution_count": null,
   "metadata": {},
   "outputs": [],
   "source": [
    "prolog = Prolog()"
   ]
  },
  {
   "attachments": {},
   "cell_type": "markdown",
   "metadata": {},
   "source": [
    "Define the rules for diagnosing the common cold"
   ]
  },
  {
   "cell_type": "code",
   "execution_count": null,
   "metadata": {},
   "outputs": [],
   "source": [
    "\n",
    "prolog.assertz(\"symptom(fever) :- temperature(T), T >= 100.4.\")\n",
    "prolog.assertz(\"symptom(cough) :- throat('sore throat'), chest('congestion').\")\n",
    "prolog.assertz(\"symptom(runny_nose) :- nose('runny nose').\")\n",
    "prolog.assertz(\"symptom(headache) :- head('headache').\")\n",
    "prolog.assertz(\"symptom(sneezing) :- nose('sneezing').\")\n",
    "prolog.assertz(\"symptom(fatigue) :- body('fatigue').\")"
   ]
  },
  {
   "attachments": {},
   "cell_type": "markdown",
   "metadata": {},
   "source": [
    "Define the facts for the patient's symptoms"
   ]
  },
  {
   "cell_type": "code",
   "execution_count": null,
   "metadata": {},
   "outputs": [],
   "source": [
    "prolog.assertz(\"temperature(100.8).\")\n",
    "prolog.assertz(\"throat('sore throat').\")\n",
    "prolog.assertz(\"chest('congestion').\")\n",
    "prolog.assertz(\"nose('runny nose').\")\n",
    "prolog.assertz(\"head('headache').\")\n",
    "prolog.assertz(\"body('fatigue').\")"
   ]
  },
  {
   "attachments": {},
   "cell_type": "markdown",
   "metadata": {},
   "source": [
    "Query the expert system to diagnose the patient's condition"
   ]
  },
  {
   "cell_type": "code",
   "execution_count": null,
   "metadata": {},
   "outputs": [],
   "source": [
    "\n",
    "solutions = list(prolog.query(\"symptom(X).\"))"
   ]
  },
  {
   "attachments": {},
   "cell_type": "markdown",
   "metadata": {},
   "source": [
    "Print the possible diagnoses"
   ]
  },
  {
   "cell_type": "code",
   "execution_count": null,
   "metadata": {},
   "outputs": [],
   "source": [
    "if solutions:\n",
    "    print(\"Possible diagnoses:\")\n",
    "    for solution in solutions:\n",
    "        print(\"- \" + solution[\"X\"])\n",
    "else:\n",
    "    print(\"No diagnosis found.\")"
   ]
  }
 ],
 "metadata": {
  "language_info": {
   "name": "python"
  },
  "orig_nbformat": 4
 },
 "nbformat": 4,
 "nbformat_minor": 2
}
