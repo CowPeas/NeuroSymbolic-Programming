{
 "cells": [
  {
   "cell_type": "code",
   "execution_count": null,
   "metadata": {},
   "outputs": [],
   "source": [
    "import torch\n",
    "import torch.nn as nn\n",
    "import torch.optim as optim\n",
    "from torchvision.datasets import MNIST\n",
    "from torchvision.transforms import ToTensor\n",
    "from sklearn.model_selection import train_test_split"
   ]
  },
  {
   "cell_type": "code",
   "execution_count": null,
   "metadata": {},
   "outputs": [],
   "source": [
    "mnist_train = MNIST(root='data', train=True, download=True, transform=ToTensor())\n",
    "mnist_test = MNIST(root='data', train=False, download=True, transform=ToTensor())\n",
    "X_train = mnist_train.data.view(-1, 784).float() / 255.0\n",
    "y_train = mnist_train.targets\n",
    "X_test = mnist_test.data.view(-1, 784).float() / 255.0\n",
    "y_test = mnist_test.targets\n",
    "X_train, X_val, y_train, y_val = train_test_split(X_train, y_train, test_size=0.2, random_state=42)"
   ]
  },
  {
   "cell_type": "code",
   "execution_count": null,
   "metadata": {},
   "outputs": [],
   "source": [
    "class Symbolic(nn.Module):\n",
    "    def __init__(self):\n",
    "        super(Symbolic, self).__init__()\n",
    "        self.rule1 = nn.Linear(784, 10, bias=False)\n",
    "        self.rule2 = nn.Linear(784, 10, bias=False)\n",
    "        self.rule3 = nn.Linear(784, 10, bias=False)\n",
    "\n",
    "    def forward(self, x):\n",
    "        r1 = torch.sigmoid(self.rule1(x))\n",
    "        r2 = torch.sigmoid(self.rule2(x))\n",
    "        r3 = torch.sigmoid(self.rule3(x))\n",
    "        x3 = (r1 + r2 + r3) / 3.0\n",
    "        return x3"
   ]
  },
  {
   "attachments": {},
   "cell_type": "markdown",
   "metadata": {},
   "source": [
    "Define the neural part of the model"
   ]
  },
  {
   "cell_type": "code",
   "execution_count": null,
   "metadata": {},
   "outputs": [],
   "source": [
    "\n",
    "class Neural(nn.Module):\n",
    "    def __init__(self):\n",
    "        super(Neural, self).__init__()\n",
    "        self.fc1 = nn.Linear(784, 128)\n",
    "        self.fc2 = nn.Linear(128, 10)\n",
    "\n",
    "    def forward(self, x):\n",
    "        x = torch.relu(self.fc1(x))\n",
    "        x = self.fc2(x)\n",
    "        return x"
   ]
  },
  {
   "attachments": {},
   "cell_type": "markdown",
   "metadata": {},
   "source": [
    "Define the combined model"
   ]
  },
  {
   "cell_type": "code",
   "execution_count": null,
   "metadata": {},
   "outputs": [],
   "source": [
    "\n",
    "class NeuroSymbolic(nn.Module):\n",
    "    def __init__(self):\n",
    "        super(NeuroSymbolic, self).__init__()\n",
    "        self.symbolic = Symbolic()\n",
    "        self.neural = Neural()\n",
    "\n",
    "    def forward(self, x):\n",
    "        x1 = self.symbolic(x)\n",
    "        x2 = self.neural(x)\n",
    "        x3 = (x2 * x1) + ((1 - x2) * x)\n",
    "        return x3"
   ]
  },
  {
   "attachments": {},
   "cell_type": "markdown",
   "metadata": {},
   "source": [
    "Initialize the model, loss function, and optimizer"
   ]
  },
  {
   "cell_type": "code",
   "execution_count": null,
   "metadata": {},
   "outputs": [],
   "source": [
    "\n",
    "model = NeuroSymbolic()\n",
    "criterion = nn.CrossEntropyLoss()\n",
    "optimizer = optim.Adam(model.parameters(), lr=0.001)"
   ]
  },
  {
   "attachments": {},
   "cell_type": "markdown",
   "metadata": {},
   "source": [
    "Train the model"
   ]
  },
  {
   "cell_type": "code",
   "execution_count": null,
   "metadata": {},
   "outputs": [],
   "source": [
    "\n",
    "for epoch in range(10):\n",
    "    for i in range(0, len(X_train), 64):\n",
    "        optimizer.zero_grad()\n",
    "        outputs = model(X_train[i:i+64])\n",
    "        loss = criterion(outputs, y_train[i:i+64])\n",
    "        loss.backward()\n",
    "        optimizer.step()"
   ]
  },
  {
   "attachments": {},
   "cell_type": "markdown",
   "metadata": {},
   "source": [
    "Print the training loss and accuracy every epoch"
   ]
  },
  {
   "cell_type": "code",
   "execution_count": null,
   "metadata": {},
   "outputs": [],
   "source": [
    "# \n",
    "with torch.no_grad():\n",
    "    outputs = model(X_train)\n",
    "    _, predicted = torch.max(outputs.data, 1)\n",
    "    train_acc = (predicted == y_train).sum().item() / len(y_train)\n",
    "    train_loss = criterion(outputs, y_train)\n",
    "    print('Epoch [%d/%d], Train Loss: %.4f, Train Accuracy: %.2f%%' % (epoch+1, 10, train_loss, train_acc*100))\n",
    "\n",
    "    outputs = model(X_val)\n",
    "    _, predicted = torch.max(outputs.data, 1)\n",
    "    val_acc = (predicted == y_val).sum().item() / len(y_val)\n",
    "    val_loss = criterion(outputs, y_val)\n",
    "    print('Epoch [%d/%d], Validation Loss: %.4f, Validation Accuracy: %.2f%%' % (epoch+1, 10, val_loss, val_acc*100))"
   ]
  }
 ],
 "metadata": {
  "language_info": {
   "name": "python"
  },
  "orig_nbformat": 4
 },
 "nbformat": 4,
 "nbformat_minor": 2
}
